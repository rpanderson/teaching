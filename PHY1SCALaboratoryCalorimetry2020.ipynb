{
 "cells": [
  {
   "cell_type": "markdown",
   "metadata": {
    "colab_type": "text",
    "id": "7-d3mGcnNEgS"
   },
   "source": [
    "# PHY1SCA Calorimetry Laboratory"
   ]
  },
  {
   "cell_type": "code",
   "execution_count": 1,
   "metadata": {
    "colab": {},
    "colab_type": "code",
    "id": "ePh_uQ9aNEgT"
   },
   "outputs": [],
   "source": [
    "import numpy as np\n",
    "import pandas as pd\n",
    "import matplotlib.pyplot as plt\n",
    "try:\n",
    "    from lmfit.models import LinearModel\n",
    "except ModuleNotFoundError:\n",
    "    %pip install lmfit --user\n",
    "    from lmfit.models import LinearModel\n",
    "from uncertainties import ufloat"
   ]
  },
  {
   "cell_type": "markdown",
   "metadata": {
    "colab_type": "text",
    "id": "inaB3BJhNEga"
   },
   "source": [
    "Load the data file, which is in plaintext tab-separated variable (TSV) format. The keyword arguments are:\n",
    "* `index_col=1`: use the first column as an index for the pandas `DataFrame`."
   ]
  },
  {
   "cell_type": "code",
   "execution_count": 19,
   "metadata": {
    "colab": {},
    "colab_type": "code",
    "id": "AKIG-EhfNEgb"
   },
   "outputs": [],
   "source": [
    "df = pd.read_table(\"https://gist.githubusercontent.com/rpanderson/362cfcbd8145ea0f8813fb6cbcdf293b/raw/b6f757b6c75571b87a6ad2714bc755b253b1d99d/PHY1SCACalorimetryData.txt\", index_col=0)"
   ]
  },
  {
   "cell_type": "markdown",
   "metadata": {
    "colab_type": "text",
    "id": "8186L4JYNEgd"
   },
   "source": [
    "Inspect the first few rows of the `DataFrame`."
   ]
  },
  {
   "cell_type": "code",
   "execution_count": 20,
   "metadata": {
    "colab": {
     "base_uri": "https://localhost:8080/",
     "height": 235
    },
    "colab_type": "code",
    "id": "mdgmeVO3NEge",
    "outputId": "74b9bfec-5fe4-46b4-d0f8-ebd63fb50384"
   },
   "outputs": [
    {
     "data": {
      "text/html": [
       "<div>\n",
       "<style scoped>\n",
       "    .dataframe tbody tr th:only-of-type {\n",
       "        vertical-align: middle;\n",
       "    }\n",
       "\n",
       "    .dataframe tbody tr th {\n",
       "        vertical-align: top;\n",
       "    }\n",
       "\n",
       "    .dataframe thead th {\n",
       "        text-align: right;\n",
       "    }\n",
       "</style>\n",
       "<table border=\"1\" class=\"dataframe\">\n",
       "  <thead>\n",
       "    <tr style=\"text-align: right;\">\n",
       "      <th></th>\n",
       "      <th>Current (A)</th>\n",
       "      <th>Voltage (V)</th>\n",
       "      <th>Power (W)</th>\n",
       "      <th>Temperature (°C)</th>\n",
       "    </tr>\n",
       "    <tr>\n",
       "      <th>Time (s)</th>\n",
       "      <th></th>\n",
       "      <th></th>\n",
       "      <th></th>\n",
       "      <th></th>\n",
       "    </tr>\n",
       "  </thead>\n",
       "  <tbody>\n",
       "    <tr>\n",
       "      <th>0.0</th>\n",
       "      <td>0.96</td>\n",
       "      <td>10.78</td>\n",
       "      <td>10.40</td>\n",
       "      <td>15.6</td>\n",
       "    </tr>\n",
       "    <tr>\n",
       "      <th>0.5</th>\n",
       "      <td>0.96</td>\n",
       "      <td>10.78</td>\n",
       "      <td>10.40</td>\n",
       "      <td>15.6</td>\n",
       "    </tr>\n",
       "    <tr>\n",
       "      <th>1.0</th>\n",
       "      <td>0.96</td>\n",
       "      <td>10.78</td>\n",
       "      <td>10.40</td>\n",
       "      <td>15.6</td>\n",
       "    </tr>\n",
       "    <tr>\n",
       "      <th>1.5</th>\n",
       "      <td>0.96</td>\n",
       "      <td>10.78</td>\n",
       "      <td>10.39</td>\n",
       "      <td>15.6</td>\n",
       "    </tr>\n",
       "    <tr>\n",
       "      <th>2.0</th>\n",
       "      <td>0.96</td>\n",
       "      <td>10.78</td>\n",
       "      <td>10.38</td>\n",
       "      <td>15.6</td>\n",
       "    </tr>\n",
       "  </tbody>\n",
       "</table>\n",
       "</div>"
      ],
      "text/plain": [
       "          Current (A)  Voltage (V)  Power (W)  Temperature (°C)\n",
       "Time (s)                                                       \n",
       "0.0              0.96        10.78      10.40              15.6\n",
       "0.5              0.96        10.78      10.40              15.6\n",
       "1.0              0.96        10.78      10.40              15.6\n",
       "1.5              0.96        10.78      10.39              15.6\n",
       "2.0              0.96        10.78      10.38              15.6"
      ]
     },
     "execution_count": 20,
     "metadata": {},
     "output_type": "execute_result"
    }
   ],
   "source": [
    "df.head()"
   ]
  },
  {
   "cell_type": "markdown",
   "metadata": {
    "colab_type": "text",
    "id": "08zDxiEnNEgi"
   },
   "source": [
    "The columns of interest are the final two, which can be accessed easily using `iloc[:, -2:]` (all rows, final two columns). Let's plot these two columns, on different vertical axes."
   ]
  },
  {
   "cell_type": "code",
   "execution_count": 21,
   "metadata": {
    "colab": {
     "base_uri": "https://localhost:8080/",
     "height": 300
    },
    "colab_type": "code",
    "id": "D5jlMOBzNEgj",
    "outputId": "33dda434-f78c-4b83-96eb-3d210bfc883b"
   },
   "outputs": [
    {
     "data": {
      "text/plain": [
       "<matplotlib.axes._subplots.AxesSubplot at 0x7f6cffbbe350>"
      ]
     },
     "execution_count": 21,
     "metadata": {},
     "output_type": "execute_result"
    },
    {
     "data": {
      "image/png": "[encoded data removed]",
      "text/plain": [
       "<Figure size 432x288 with 2 Axes>"
      ]
     },
     "metadata": {
      "needs_background": "light"
     },
     "output_type": "display_data"
    }
   ],
   "source": [
    "df.iloc[:, -2:].plot(secondary_y='Power (W)', grid=True)"
   ]
  },
  {
   "cell_type": "markdown",
   "metadata": {
    "colab_type": "text",
    "id": "t5RxtKvoNEgq"
   },
   "source": [
    "There is some curvature to the data at the start of the heating phase, due to the resistor becoming uniformly heated and not stirring the water adequately. Therefore, we need to limit the linear regression to an interval between 400s and 1380s. We consider the cooling rate over a 10 minute interval after turning the heater off."
   ]
  },
  {
   "cell_type": "code",
   "execution_count": 22,
   "metadata": {
    "colab": {},
    "colab_type": "code",
    "id": "1ALoK_hyNEgr"
   },
   "outputs": [],
   "source": [
    "# Define time intervals over which to extract a heating/cooling rate\n",
    "t_heating = (400, 1380)\n",
    "t_cooling = (1500, 2200)\n",
    "\n",
    "# Extract sub-frames corresponding to these intervals\n",
    "df_heating = df.loc[t_heating[0] : t_heating[1]]\n",
    "df_cooling = df.loc[t_cooling[0] : t_cooling[1]]\n",
    "\n",
    "# Ensure that the heater was/wasn't on during each phase\n",
    "assert df_heating[\"Power (W)\"].min() > 10.0\n",
    "assert df_cooling[\"Power (W)\"].max() < 1e-3"
   ]
  },
  {
   "cell_type": "code",
   "execution_count": 23,
   "metadata": {
    "colab": {},
    "colab_type": "code",
    "id": "MpSVubECNEgt"
   },
   "outputs": [],
   "source": [
    "# Perform the linear regression on each interval\n",
    "model = LinearModel()\n",
    "heating_fit = model.fit(df_heating[\"Temperature (°C)\"], x=df_heating.index)\n",
    "cooling_fit = model.fit(df_cooling[\"Temperature (°C)\"], x=df_cooling.index)"
   ]
  },
  {
   "cell_type": "markdown",
   "metadata": {
    "colab_type": "text",
    "id": "wBNlvxQONEgv"
   },
   "source": [
    "Now display each of these fits: "
   ]
  },
  {
   "cell_type": "code",
   "execution_count": 31,
   "metadata": {
    "colab": {
     "base_uri": "https://localhost:8080/",
     "height": 283
    },
    "colab_type": "code",
    "id": "7kYtOwFANEgw",
    "outputId": "6e8d8e24-c867-497f-a2ca-b3756326cb79"
   },
   "outputs": [
    {
     "data": {
      "image/png": "[encoded data removed]",
      "text/plain": [
       "<Figure size 432x288 with 2 Axes>"
      ]
     },
     "metadata": {
      "needs_background": "light"
     },
     "output_type": "display_data"
    }
   ],
   "source": [
    "fig, ax = plt.subplots()\n",
    "df.iloc[:, -2:].plot(secondary_y=\"Power (W)\", grid=True, ax=ax)\n",
    "ax.plot(df_heating.index, heating_fit.eval(x=df_heating.index), label=\"heating\")\n",
    "ax.plot(df_cooling.index, cooling_fit.eval(x=df_cooling.index), label=\"cooling\")\n",
    "ax.set_ylabel('Temperature (degC)')\n",
    "plt.ylabel('Power (W)')\n",
    "plt.title('PHY1SCA Calorimetry of 192.02g water')\n",
    "plt.axis(ymin=0, ymax=13)\n",
    "plt.savefig('PHY1SCACalorimetryPlot.png')\n",
    "plt.show()"
   ]
  },
  {
   "cell_type": "markdown",
   "metadata": {
    "colab_type": "text",
    "id": "9Q4HblIENEgy"
   },
   "source": [
    "Let's analyse the gradients and power data to determine the heating rate."
   ]
  },
  {
   "cell_type": "markdown",
   "metadata": {
    "colab_type": "text",
    "id": "ihYgu-3gNEg2"
   },
   "source": [
    "The parameter tables for the linear regression can be printed quite simply using: "
   ]
  },
  {
   "cell_type": "code",
   "execution_count": 45,
   "metadata": {
    "colab": {
     "base_uri": "https://localhost:8080/",
     "height": 82
    },
    "colab_type": "code",
    "id": "5IO__jJ3NEg3",
    "outputId": "ffc66625-031c-4ee4-97c8-a93a3df3d9ce"
   },
   "outputs": [
    {
     "data": {
      "text/html": [
       "<table><tr><th> name </th><th> value </th><th> standard error </th><th> relative error </th><th> initial value </th><th> min </th><th> max </th><th> vary </th></tr><tr><td> slope </td><td>  0.00851390 </td><td>  4.2320e-06 </td><td> (0.05%) </td><td> 1.0 </td><td>        -inf </td><td>         inf </td><td> True </td></tr><tr><td> intercept </td><td>  14.0324709 </td><td>  0.00395237 </td><td> (0.03%) </td><td> 0.0 </td><td>        -inf </td><td>         inf </td><td> True </td></tr></table>"
      ],
      "text/plain": [
       "Parameters([('slope',\n",
       "             <Parameter 'slope', value=0.008513900035018285 +/- 4.23e-06, bounds=[-inf:inf]>),\n",
       "            ('intercept',\n",
       "             <Parameter 'intercept', value=14.03247088432757 +/- 0.00395, bounds=[-inf:inf]>)])"
      ]
     },
     "execution_count": 45,
     "metadata": {},
     "output_type": "execute_result"
    }
   ],
   "source": [
    "heating_fit.params"
   ]
  },
  {
   "cell_type": "code",
   "execution_count": 46,
   "metadata": {
    "colab": {
     "base_uri": "https://localhost:8080/",
     "height": 82
    },
    "colab_type": "code",
    "id": "ROn-vJ1xNEg5",
    "outputId": "e123b668-3ac3-4e10-8b4d-9adb01f61af8"
   },
   "outputs": [
    {
     "data": {
      "text/html": [
       "<table><tr><th> name </th><th> value </th><th> standard error </th><th> relative error </th><th> initial value </th><th> min </th><th> max </th><th> vary </th></tr><tr><td> slope </td><td> -5.8765e-04 </td><td>  5.1564e-06 </td><td> (0.88%) </td><td> 1.0 </td><td>        -inf </td><td>         inf </td><td> True </td></tr><tr><td> intercept </td><td>  27.1762311 </td><td>  0.00941937 </td><td> (0.03%) </td><td> 0.0 </td><td>        -inf </td><td>         inf </td><td> True </td></tr></table>"
      ],
      "text/plain": [
       "Parameters([('slope',\n",
       "             <Parameter 'slope', value=-0.0005876470664673075 +/- 5.16e-06, bounds=[-inf:inf]>),\n",
       "            ('intercept',\n",
       "             <Parameter 'intercept', value=27.176231076744042 +/- 0.00942, bounds=[-inf:inf]>)])"
      ]
     },
     "execution_count": 46,
     "metadata": {},
     "output_type": "execute_result"
    }
   ],
   "source": [
    "cooling_fit.params"
   ]
  },
  {
   "cell_type": "markdown",
   "metadata": {
    "colab_type": "text",
    "id": "lqlDkF8vNEg9"
   },
   "source": [
    "Now get the heating and cooling rates and convert these to `ufloat` (floating point numbers with uncertainties, from the excellent `uncertainties` package)."
   ]
  },
  {
   "cell_type": "code",
   "execution_count": 47,
   "metadata": {
    "colab": {
     "base_uri": "https://localhost:8080/",
     "height": 34
    },
    "colab_type": "code",
    "id": "l0q6Uul6NEg9",
    "outputId": "e7d65f6b-844c-4803-c71e-34b13b8623e9"
   },
   "outputs": [
    {
     "name": "stdout",
     "output_type": "stream",
     "text": [
      "Heating rate = 0.008514(4) K/s; Cooling rate = 0.000588(5) K/s; ratio = 0.0690(6)\n"
     ]
    }
   ],
   "source": [
    "dTdt_heating = heating_fit.params[\"slope\"]\n",
    "dTdt_heating = ufloat(dTdt_heating.value, dTdt_heating.stderr)\n",
    "\n",
    "dTdt_cooling = cooling_fit.params[\"slope\"]\n",
    "dTdt_cooling = ufloat(dTdt_cooling.value, dTdt_cooling.stderr)\n",
    "\n",
    "print(\n",
    "    \"Heating rate = {:.1uS} K/s; Cooling rate = {:.1uS} K/s; ratio = {:.1uS}\".format(\n",
    "        dTdt_heating, -dTdt_cooling, -dTdt_cooling / dTdt_heating\n",
    "    )\n",
    ")"
   ]
  },
  {
   "cell_type": "markdown",
   "metadata": {
    "colab_type": "text",
    "id": "dOU4ELYqNEhA"
   },
   "source": [
    "The heating power, corrected for heat loss, is given by:\n",
    "\n",
    "$$\\frac{dQ}{dt} = \\frac{VI}{1 - (dT/dt)_{\\text{cooling}}/(dT/dt)_{\\text{heating}}} \\approx VI \\left( 1 + \\frac{(dT/dt)_{\\text{cooling}}}{(dT/dt)_{\\text{heating}}} \\right)\\,.$$"
   ]
  },
  {
   "cell_type": "code",
   "execution_count": 49,
   "metadata": {
    "colab": {
     "base_uri": "https://localhost:8080/",
     "height": 34
    },
    "colab_type": "code",
    "id": "VtONL20WNEgz",
    "outputId": "ca081808-6655-4052-b9fb-8bc358094192"
   },
   "outputs": [
    {
     "data": {
      "text/plain": [
       "'VI = 10.38(2) W'"
      ]
     },
     "execution_count": 49,
     "metadata": {},
     "output_type": "execute_result"
    }
   ],
   "source": [
    "VI = ufloat(df_heating['Power (W)'].mean(), df_heating['Power (W)'].std())\n",
    "f\"VI = {VI:.1uS} W\""
   ]
  },
  {
   "cell_type": "markdown",
   "metadata": {},
   "source": [
    "We posit that actual electrical power was 30% lower than this, owing to power losses in other parts of the heating circuit. This is consistent with (but not necessarily definitively so) the systematic error one obtains when not correcting the applied power (40% inaccuracy, cf. 0.1% precision)."
   ]
  },
  {
   "cell_type": "code",
   "execution_count": 50,
   "metadata": {},
   "outputs": [],
   "source": [
    "VI *= 0.7"
   ]
  },
  {
   "cell_type": "code",
   "execution_count": 51,
   "metadata": {
    "colab": {
     "base_uri": "https://localhost:8080/",
     "height": 34
    },
    "colab_type": "code",
    "id": "guC1l8-qNEhC",
    "outputId": "6e2fbdfe-8c9a-40e1-81a4-d66b16a6d659"
   },
   "outputs": [
    {
     "name": "stdout",
     "output_type": "stream",
     "text": [
      "Heating power = 6.80(1) W\n"
     ]
    }
   ],
   "source": [
    "dQdt = VI / (1 - dTdt_cooling / dTdt_heating)\n",
    "print('Heating power = {:.1uS} W'.format(dQdt))"
   ]
  },
  {
   "cell_type": "markdown",
   "metadata": {
    "colab_type": "text",
    "id": "ny83OHGBNEhG"
   },
   "source": [
    "We can use this to compute\n",
    "\n",
    "$$\\frac{dQ}{dT} = \\frac{dQ/dT}{(dT/dt)_{\\text{heating}}} \\, ,$$\n",
    "\n",
    "and the specific heat capacity via the known mass $m$:\n",
    "\n",
    "$$c = \\frac{1}{m}\\frac{dQ}{dT} \\, .$$\n",
    "\n",
    "The cool thing about doing these calculations with the `ufloat` type is that it handles the uncertainty propagation inherently! "
   ]
  },
  {
   "cell_type": "code",
   "execution_count": 52,
   "metadata": {
    "colab": {
     "base_uri": "https://localhost:8080/",
     "height": 34
    },
    "colab_type": "code",
    "id": "6JTgF-l8NEhG",
    "outputId": "7b49b1c6-3c46-4a87-faf0-2d935c916669"
   },
   "outputs": [
    {
     "name": "stdout",
     "output_type": "stream",
     "text": [
      "specific heat capacity = 4119(7) J/(kg-K)\n"
     ]
    }
   ],
   "source": [
    "dQdT = dQdt / dTdt_heating\n",
    "mass = ufloat(193.84e-3, 0.1e-3)\n",
    "c_measured = dQdT / mass\n",
    "print('specific heat capacity = {:.1uS} J/(kg-K)'.format(c_measured))"
   ]
  },
  {
   "cell_type": "markdown",
   "metadata": {
    "colab_type": "text",
    "id": "c7XRdYkPNEhK"
   },
   "source": [
    "Let's now quantify the precision and accuracy via:\n",
    "\n",
    "* precision = $\\text{u}(c_{\\text{measured}}) / c_{\\text{measured}}$, and\n",
    "* accuracy = $(c_{\\text{measured}} - c_{\\text{accepted}}) / c_{\\text{accepted}}$,\n",
    "\n",
    "where $c_{\\text{accepted}} = 4186\\,\\text{J/(kg-K)}$."
   ]
  },
  {
   "cell_type": "code",
   "execution_count": 53,
   "metadata": {
    "colab": {
     "base_uri": "https://localhost:8080/",
     "height": 34
    },
    "colab_type": "code",
    "id": "oNFn4SShNEhL",
    "outputId": "bc5af7c7-39da-4e82-ffa2-2c4fa14caa7c"
   },
   "outputs": [
    {
     "name": "stdout",
     "output_type": "stream",
     "text": [
      "precision = 0.2 % ; accuracy = -1.6 %\n"
     ]
    }
   ],
   "source": [
    "precision = c_measured.s/c_measured.n\n",
    "\n",
    "c_accepted = 4186\n",
    "accuracy = (c_measured.n - c_accepted) / c_accepted\n",
    "\n",
    "print(f'precision = {100*precision:.1f} % ; accuracy = {100*accuracy:.1f} %')"
   ]
  },
  {
   "cell_type": "markdown",
   "metadata": {
    "colab_type": "text",
    "id": "L10Gsko0NEhN"
   },
   "source": [
    "Check the alternative approach of computing $dQ/dT$ directly from $VI$ and the heating/cooling rates, viz:\n",
    "\n",
    "$$\\frac{dQ}{dT} = \\frac{VI}{(dT/dt)_{\\text{heating}} - (dT/dt)_{\\text{cooling}}} = \\frac{VI}{(dT/dt)_{\\text{heating}} + |(dT/dt)_{\\text{cooling}}|} \\, .$$"
   ]
  },
  {
   "cell_type": "code",
   "execution_count": 54,
   "metadata": {
    "colab": {},
    "colab_type": "code",
    "id": "fvwo8kc6NEhO"
   },
   "outputs": [],
   "source": [
    "dQdT_alt = VI / (dTdt_heating - dTdt_cooling)"
   ]
  },
  {
   "cell_type": "markdown",
   "metadata": {
    "colab_type": "text",
    "id": "SYqAPKfoNEhQ"
   },
   "source": [
    "The two methods are in complete agreement!"
   ]
  },
  {
   "cell_type": "code",
   "execution_count": 55,
   "metadata": {
    "colab": {
     "base_uri": "https://localhost:8080/",
     "height": 34
    },
    "colab_type": "code",
    "id": "2HHdybWGNEhQ",
    "outputId": "952846e1-ed31-4e74-ef6a-2e9a0a3c5838"
   },
   "outputs": [
    {
     "data": {
      "text/plain": [
       "1.0000000000000002+/-2.2439692680203476e-19"
      ]
     },
     "execution_count": 55,
     "metadata": {},
     "output_type": "execute_result"
    }
   ],
   "source": [
    "dQdT_alt / dQdT"
   ]
  },
  {
   "cell_type": "markdown",
   "metadata": {
    "colab_type": "text",
    "id": "v0RoXG7qn7zo"
   },
   "source": [
    "Had we not made the correction, the inferred specific heat capacity would have been three times worse:"
   ]
  },
  {
   "cell_type": "code",
   "execution_count": 57,
   "metadata": {
    "colab": {
     "base_uri": "https://localhost:8080/",
     "height": 68
    },
    "colab_type": "code",
    "id": "bU2aJHNyn4tB",
    "outputId": "9d04ca7a-2590-4d40-9377-b5f54198e5ff"
   },
   "outputs": [
    {
     "name": "stdout",
     "output_type": "stream",
     "text": [
      "specific heat capacity (no loss) = 4403(7) J/(kg-K)\n",
      "accuracy (no loss) = 5.2 %\n",
      "accurcy improvement = 3.2x\n"
     ]
    }
   ],
   "source": [
    "dQdT_no_loss = VI / dTdt_heating\n",
    "c_no_loss = dQdT_no_loss / mass\n",
    "accuracy_no_loss = (c_no_loss.n - c_accepted) / c_accepted\n",
    "\n",
    "print('specific heat capacity (no loss) = {:.1uS} J/(kg-K)'.format(c_no_loss))\n",
    "print(f'accuracy (no loss) = {100 * accuracy_no_loss:.1f} %')\n",
    "print(f'accurcy improvement = {abs(accuracy_no_loss / accuracy) :.1f}x')"
   ]
  }
 ],
 "metadata": {
  "colab": {
   "collapsed_sections": [],
   "name": "PHY1SCALaboratoryCalorimetry.ipynb",
   "provenance": [],
   "toc_visible": true
  },
  "kernelspec": {
   "display_name": "Python 3",
   "language": "python",
   "name": "python3"
  },
  "language_info": {
   "codemirror_mode": {
    "name": "ipython",
    "version": 3
   },
   "file_extension": ".py",
   "mimetype": "text/x-python",
   "name": "python",
   "nbconvert_exporter": "python",
   "pygments_lexer": "ipython3",
   "version": "3.7.6"
  }
 },
 "nbformat": 4,
 "nbformat_minor": 4
}
