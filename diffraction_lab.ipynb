{
 "cells": [
  {
   "cell_type": "markdown",
   "metadata": {},
   "source": [
    "# _Data analysis bootcamp:_ Diffraction spectrometer\n",
    "\n",
    "A whirlwind introdoction to using Python to analyse data for the diffraction spectrometer experiment of PHY2CLP."
   ]
  },
  {
   "cell_type": "markdown",
   "metadata": {},
   "source": [
    "## Preliminaries\n",
    "\n",
    "First we import some standard packages:\n",
    "  * ``numpy`` (numerical Python) for math functions;\n",
    "  * ``pandas`` for slicing and dicing tables of indexed data; and\n",
    "  * ``matplotlib.pyplot`` for plotting.\n",
    "  \n",
    "In each case, we assign these imported packages a short alias (``np``, ``pd``, and ``plt`` respectively) to make calling their methods less verbose."
   ]
  },
  {
   "cell_type": "code",
   "execution_count": 1,
   "metadata": {},
   "outputs": [],
   "source": [
    "import numpy as np\n",
    "import pandas as pd\n",
    "import matplotlib.pyplot as plt"
   ]
  },
  {
   "cell_type": "markdown",
   "metadata": {},
   "source": [
    "Finally we increase the resolution of the printed graphics from ``matplotlib``."
   ]
  },
  {
   "cell_type": "code",
   "execution_count": 80,
   "metadata": {},
   "outputs": [],
   "source": [
    "import matplotlib as mpl\n",
    "mpl.rcParams['figure.dpi'] = 110"
   ]
  },
  {
   "cell_type": "markdown",
   "metadata": {},
   "source": [
    "## Data import and conditioning\n",
    "\n",
    "Import the data from a specified Excel sheet, indexing the resulting pandas ``DataFrame`` object by the known wavelength."
   ]
  },
  {
   "cell_type": "code",
   "execution_count": 17,
   "metadata": {},
   "outputs": [
    {
     "data": {
      "text/html": [
       "<div>\n",
       "<style scoped>\n",
       "    .dataframe tbody tr th:only-of-type {\n",
       "        vertical-align: middle;\n",
       "    }\n",
       "\n",
       "    .dataframe tbody tr th {\n",
       "        vertical-align: top;\n",
       "    }\n",
       "\n",
       "    .dataframe thead th {\n",
       "        text-align: right;\n",
       "    }\n",
       "</style>\n",
       "<table border=\"1\" class=\"dataframe\">\n",
       "  <thead>\n",
       "    <tr style=\"text-align: right;\">\n",
       "      <th></th>\n",
       "      <th>Wavelength (Å)</th>\n",
       "      <th>x (m=+1)</th>\n",
       "      <th>x (m=-1)</th>\n",
       "      <th>y</th>\n",
       "    </tr>\n",
       "    <tr>\n",
       "      <th>Mercury line</th>\n",
       "      <th></th>\n",
       "      <th></th>\n",
       "      <th></th>\n",
       "      <th></th>\n",
       "    </tr>\n",
       "  </thead>\n",
       "  <tbody>\n",
       "    <tr>\n",
       "      <th>Y2</th>\n",
       "      <td>5791.0</td>\n",
       "      <td>193.5</td>\n",
       "      <td>197.0</td>\n",
       "      <td>208.0</td>\n",
       "    </tr>\n",
       "    <tr>\n",
       "      <th>Y1</th>\n",
       "      <td>5770.0</td>\n",
       "      <td>192.0</td>\n",
       "      <td>196.0</td>\n",
       "      <td>208.0</td>\n",
       "    </tr>\n",
       "    <tr>\n",
       "      <th>G</th>\n",
       "      <td>5461.0</td>\n",
       "      <td>173.0</td>\n",
       "      <td>178.0</td>\n",
       "      <td>208.0</td>\n",
       "    </tr>\n",
       "    <tr>\n",
       "      <th>B</th>\n",
       "      <td>4916.0</td>\n",
       "      <td>NaN</td>\n",
       "      <td>NaN</td>\n",
       "      <td>NaN</td>\n",
       "    </tr>\n",
       "    <tr>\n",
       "      <th>BV</th>\n",
       "      <td>4358.0</td>\n",
       "      <td>122.0</td>\n",
       "      <td>NaN</td>\n",
       "      <td>208.0</td>\n",
       "    </tr>\n",
       "    <tr>\n",
       "      <th>wV</th>\n",
       "      <td>4077.0</td>\n",
       "      <td>NaN</td>\n",
       "      <td>NaN</td>\n",
       "      <td>NaN</td>\n",
       "    </tr>\n",
       "    <tr>\n",
       "      <th>V</th>\n",
       "      <td>4047.0</td>\n",
       "      <td>110.0</td>\n",
       "      <td>NaN</td>\n",
       "      <td>208.0</td>\n",
       "    </tr>\n",
       "    <tr>\n",
       "      <th>?</th>\n",
       "      <td>NaN</td>\n",
       "      <td>96.9</td>\n",
       "      <td>NaN</td>\n",
       "      <td>208.0</td>\n",
       "    </tr>\n",
       "  </tbody>\n",
       "</table>\n",
       "</div>"
      ],
      "text/plain": [
       "              Wavelength (Å)  x (m=+1)  x (m=-1)      y\n",
       "Mercury line                                           \n",
       "Y2                    5791.0     193.5     197.0  208.0\n",
       "Y1                    5770.0     192.0     196.0  208.0\n",
       "G                     5461.0     173.0     178.0  208.0\n",
       "B                     4916.0       NaN       NaN    NaN\n",
       "BV                    4358.0     122.0       NaN  208.0\n",
       "wV                    4077.0       NaN       NaN    NaN\n",
       "V                     4047.0     110.0       NaN  208.0\n",
       "?                        NaN      96.9       NaN  208.0"
      ]
     },
     "execution_count": 17,
     "metadata": {},
     "output_type": "execute_result"
    }
   ],
   "source": [
    "df = pd.read_excel('PHY2CLPDiffractionData.xlsx', \n",
    "                   index_col=0,\n",
    "                   sheet_name='GaryLennonWill')\n",
    "\n",
    "df"
   ]
  },
  {
   "cell_type": "markdown",
   "metadata": {},
   "source": [
    "_Note:_ Pandas inserts ``NaN`` (not a number) for blank cells in the spreadsheet. This is useful for us to keep track of missing values.\n",
    "\n",
    "We then determine a correction for each value of \\(x\\) (the transverse distance of a diffracted line from the optical axis) in the instances where both $m=1$ and $m=-1$ orders were measured."
   ]
  },
  {
   "cell_type": "code",
   "execution_count": 18,
   "metadata": {},
   "outputs": [
    {
     "data": {
      "text/plain": [
       "Mercury line\n",
       "Y2    1.75\n",
       "Y1    2.00\n",
       "G     2.50\n",
       "B      NaN\n",
       "BV     NaN\n",
       "wV     NaN\n",
       "V      NaN\n",
       "?      NaN\n",
       "dtype: float64"
      ]
     },
     "execution_count": 18,
     "metadata": {},
     "output_type": "execute_result"
    }
   ],
   "source": [
    "x_errors = (df['x (m=-1)'] - df['x (m=+1)'])/2\n",
    "x_errors"
   ]
  },
  {
   "cell_type": "markdown",
   "metadata": {},
   "source": [
    "The average of these corrections is given by the following value (in mm):"
   ]
  },
  {
   "cell_type": "code",
   "execution_count": 19,
   "metadata": {},
   "outputs": [
    {
     "data": {
      "text/plain": [
       "2.0833333333333335"
      ]
     },
     "execution_count": 19,
     "metadata": {},
     "output_type": "execute_result"
    }
   ],
   "source": [
    "x_error_avg = x_errors.mean()\n",
    "x_error_avg"
   ]
  },
  {
   "cell_type": "markdown",
   "metadata": {},
   "source": [
    "For the lines where an $m=-1$ order wasn't measured, we use the mean value above for the correction. Below, we fill in the missing values of the ``x_errors`` series by replacing the ``NaN`` values with the above mean. \n",
    "\n",
    "_Note:_ The ``inplace=True`` argument to ``fillna`` reassigns the value of ``x_errors`` so that we don't have to prepend ``x_errors = `` to this command."
   ]
  },
  {
   "cell_type": "code",
   "execution_count": 20,
   "metadata": {},
   "outputs": [
    {
     "data": {
      "text/plain": [
       "Mercury line\n",
       "Y2    1.750000\n",
       "Y1    2.000000\n",
       "G     2.500000\n",
       "B     2.083333\n",
       "BV    2.083333\n",
       "wV    2.083333\n",
       "V     2.083333\n",
       "?     2.083333\n",
       "dtype: float64"
      ]
     },
     "execution_count": 20,
     "metadata": {},
     "output_type": "execute_result"
    }
   ],
   "source": [
    "x_errors.fillna(x_error_avg, inplace=True)\n",
    "x_errors"
   ]
  },
  {
   "cell_type": "markdown",
   "metadata": {},
   "source": [
    "We are now ready to definitively declare a set of $x$ positions based on the correction. Let's add these as a column of the ``df`` table (a pandas ``DataFrame``)."
   ]
  },
  {
   "cell_type": "code",
   "execution_count": 21,
   "metadata": {},
   "outputs": [],
   "source": [
    "df['x'] = df['x (m=+1)'] + x_errors"
   ]
  },
  {
   "cell_type": "code",
   "execution_count": 22,
   "metadata": {},
   "outputs": [
    {
     "data": {
      "text/html": [
       "<div>\n",
       "<style scoped>\n",
       "    .dataframe tbody tr th:only-of-type {\n",
       "        vertical-align: middle;\n",
       "    }\n",
       "\n",
       "    .dataframe tbody tr th {\n",
       "        vertical-align: top;\n",
       "    }\n",
       "\n",
       "    .dataframe thead th {\n",
       "        text-align: right;\n",
       "    }\n",
       "</style>\n",
       "<table border=\"1\" class=\"dataframe\">\n",
       "  <thead>\n",
       "    <tr style=\"text-align: right;\">\n",
       "      <th></th>\n",
       "      <th>Wavelength (Å)</th>\n",
       "      <th>x (m=+1)</th>\n",
       "      <th>x (m=-1)</th>\n",
       "      <th>y</th>\n",
       "      <th>x</th>\n",
       "    </tr>\n",
       "    <tr>\n",
       "      <th>Mercury line</th>\n",
       "      <th></th>\n",
       "      <th></th>\n",
       "      <th></th>\n",
       "      <th></th>\n",
       "      <th></th>\n",
       "    </tr>\n",
       "  </thead>\n",
       "  <tbody>\n",
       "    <tr>\n",
       "      <th>Y2</th>\n",
       "      <td>5791.0</td>\n",
       "      <td>193.5</td>\n",
       "      <td>197.0</td>\n",
       "      <td>208.0</td>\n",
       "      <td>195.250000</td>\n",
       "    </tr>\n",
       "    <tr>\n",
       "      <th>Y1</th>\n",
       "      <td>5770.0</td>\n",
       "      <td>192.0</td>\n",
       "      <td>196.0</td>\n",
       "      <td>208.0</td>\n",
       "      <td>194.000000</td>\n",
       "    </tr>\n",
       "    <tr>\n",
       "      <th>G</th>\n",
       "      <td>5461.0</td>\n",
       "      <td>173.0</td>\n",
       "      <td>178.0</td>\n",
       "      <td>208.0</td>\n",
       "      <td>175.500000</td>\n",
       "    </tr>\n",
       "    <tr>\n",
       "      <th>B</th>\n",
       "      <td>4916.0</td>\n",
       "      <td>NaN</td>\n",
       "      <td>NaN</td>\n",
       "      <td>NaN</td>\n",
       "      <td>NaN</td>\n",
       "    </tr>\n",
       "    <tr>\n",
       "      <th>BV</th>\n",
       "      <td>4358.0</td>\n",
       "      <td>122.0</td>\n",
       "      <td>NaN</td>\n",
       "      <td>208.0</td>\n",
       "      <td>124.083333</td>\n",
       "    </tr>\n",
       "    <tr>\n",
       "      <th>wV</th>\n",
       "      <td>4077.0</td>\n",
       "      <td>NaN</td>\n",
       "      <td>NaN</td>\n",
       "      <td>NaN</td>\n",
       "      <td>NaN</td>\n",
       "    </tr>\n",
       "    <tr>\n",
       "      <th>V</th>\n",
       "      <td>4047.0</td>\n",
       "      <td>110.0</td>\n",
       "      <td>NaN</td>\n",
       "      <td>208.0</td>\n",
       "      <td>112.083333</td>\n",
       "    </tr>\n",
       "    <tr>\n",
       "      <th>?</th>\n",
       "      <td>NaN</td>\n",
       "      <td>96.9</td>\n",
       "      <td>NaN</td>\n",
       "      <td>208.0</td>\n",
       "      <td>98.983333</td>\n",
       "    </tr>\n",
       "  </tbody>\n",
       "</table>\n",
       "</div>"
      ],
      "text/plain": [
       "              Wavelength (Å)  x (m=+1)  x (m=-1)      y           x\n",
       "Mercury line                                                       \n",
       "Y2                    5791.0     193.5     197.0  208.0  195.250000\n",
       "Y1                    5770.0     192.0     196.0  208.0  194.000000\n",
       "G                     5461.0     173.0     178.0  208.0  175.500000\n",
       "B                     4916.0       NaN       NaN    NaN         NaN\n",
       "BV                    4358.0     122.0       NaN  208.0  124.083333\n",
       "wV                    4077.0       NaN       NaN    NaN         NaN\n",
       "V                     4047.0     110.0       NaN  208.0  112.083333\n",
       "?                        NaN      96.9       NaN  208.0   98.983333"
      ]
     },
     "execution_count": 22,
     "metadata": {},
     "output_type": "execute_result"
    }
   ],
   "source": [
    "df"
   ]
  },
  {
   "cell_type": "markdown",
   "metadata": {},
   "source": [
    "As we continue our analysis, we'd like to only keep rows that satisfy the following conditions:\n",
    "  * There is a known wavelength (i.e. not the '?' row), and\n",
    "  * There is a value of $x$ and $y$.\n",
    "  \n",
    "If we were to drop the $x\\, (m=-1)$ column, this would correspond to rows that contain no ``NaN``s."
   ]
  },
  {
   "cell_type": "code",
   "execution_count": 55,
   "metadata": {},
   "outputs": [
    {
     "data": {
      "text/html": [
       "<div>\n",
       "<style scoped>\n",
       "    .dataframe tbody tr th:only-of-type {\n",
       "        vertical-align: middle;\n",
       "    }\n",
       "\n",
       "    .dataframe tbody tr th {\n",
       "        vertical-align: top;\n",
       "    }\n",
       "\n",
       "    .dataframe thead th {\n",
       "        text-align: right;\n",
       "    }\n",
       "</style>\n",
       "<table border=\"1\" class=\"dataframe\">\n",
       "  <thead>\n",
       "    <tr style=\"text-align: right;\">\n",
       "      <th></th>\n",
       "      <th>Wavelength (Å)</th>\n",
       "      <th>y</th>\n",
       "      <th>x</th>\n",
       "    </tr>\n",
       "    <tr>\n",
       "      <th>Mercury line</th>\n",
       "      <th></th>\n",
       "      <th></th>\n",
       "      <th></th>\n",
       "    </tr>\n",
       "  </thead>\n",
       "  <tbody>\n",
       "    <tr>\n",
       "      <th>Y2</th>\n",
       "      <td>5791.0</td>\n",
       "      <td>208.0</td>\n",
       "      <td>195.250000</td>\n",
       "    </tr>\n",
       "    <tr>\n",
       "      <th>Y1</th>\n",
       "      <td>5770.0</td>\n",
       "      <td>208.0</td>\n",
       "      <td>194.000000</td>\n",
       "    </tr>\n",
       "    <tr>\n",
       "      <th>G</th>\n",
       "      <td>5461.0</td>\n",
       "      <td>208.0</td>\n",
       "      <td>175.500000</td>\n",
       "    </tr>\n",
       "    <tr>\n",
       "      <th>BV</th>\n",
       "      <td>4358.0</td>\n",
       "      <td>208.0</td>\n",
       "      <td>124.083333</td>\n",
       "    </tr>\n",
       "    <tr>\n",
       "      <th>V</th>\n",
       "      <td>4047.0</td>\n",
       "      <td>208.0</td>\n",
       "      <td>112.083333</td>\n",
       "    </tr>\n",
       "  </tbody>\n",
       "</table>\n",
       "</div>"
      ],
      "text/plain": [
       "              Wavelength (Å)      y           x\n",
       "Mercury line                                   \n",
       "Y2                    5791.0  208.0  195.250000\n",
       "Y1                    5770.0  208.0  194.000000\n",
       "G                     5461.0  208.0  175.500000\n",
       "BV                    4358.0  208.0  124.083333\n",
       "V                     4047.0  208.0  112.083333"
      ]
     },
     "execution_count": 55,
     "metadata": {},
     "output_type": "execute_result"
    }
   ],
   "source": [
    "subdf = df.drop(['x (m=-1)', 'x (m=+1)'], axis=1)\n",
    "subdf.dropna(inplace=True)\n",
    "subdf"
   ]
  },
  {
   "cell_type": "markdown",
   "metadata": {},
   "source": [
    "## Calculating the diffraction angle and uncertatinty"
   ]
  },
  {
   "cell_type": "markdown",
   "metadata": {},
   "source": [
    "We now extract the $x$ and $y$ columns as separate variables, and compute $\\theta = \\tan^{-1}(x/y)$ and $\\sin \\theta$."
   ]
  },
  {
   "cell_type": "code",
   "execution_count": 56,
   "metadata": {},
   "outputs": [
    {
     "data": {
      "text/plain": [
       "Mercury line\n",
       "Y2    0.684407\n",
       "Y1    0.682068\n",
       "G     0.644871\n",
       "BV    0.512318\n",
       "V     0.474373\n",
       "dtype: float64"
      ]
     },
     "execution_count": 56,
     "metadata": {},
     "output_type": "execute_result"
    }
   ],
   "source": [
    "x = subdf['x']\n",
    "y = subdf['y']\n",
    "theta = np.arctan(x / y)\n",
    "sin_theta = np.sin(theta)\n",
    "sin_theta"
   ]
  },
  {
   "cell_type": "markdown",
   "metadata": {},
   "source": [
    "We are now equipped to evaluate $u(\\sin \\theta)$, the uncertainty in $\\sin\\theta$, which is necessary for weighted linear regression to $(\\lambda, \\sin\\theta)$ data.\n",
    "\n",
    "First we note that:\n",
    "$$\\sin\\theta = \\sin(\\tan^{-1}(x/y)) = \\frac{x}{\\sqrt{x^2 + y^2}} \\, .$$\n",
    "From this we can calculate the uncertainty in $\\sin\\theta$ from $u(x)$ and $u(y)$, the uncertainties in the measured lengths:\n",
    "\n",
    "$$\\begin{align} u(\\sin\\theta) &= \\sqrt{u(x)^2 \\left(\\frac{\\partial(\\sin\\theta)}{\\partial x}\\right)^2 + u(y)^2 \\left(\\frac{\\partial(\\sin\\theta)}{\\partial y}\\right)^2} \\\\\n",
    "&= \\sqrt{\\frac{u(x)^2 x^2 y^2 + u(y)^2 y^4}{(x^2 + y^2)^3}} \\, ,\\end{align}$$\n",
    "since\n",
    "$$\\begin{align} \\frac{\\partial(\\sin\\theta)}{\\partial x} &= \\frac{y^2}{(x^2 + y^2)^{3/2}} \\; ; \\\\\n",
    " \\frac{\\partial(\\sin\\theta)}{\\partial y} &= -\\frac{xy}{(x^2 + y^2)^{3/2}} \\, . \\end{align}$$\n",
    " \n",
    "Let's define a function which takes as arguments the two measured lengths and their uncertainties and returns $u(\\sin\\theta)$."
   ]
  },
  {
   "cell_type": "code",
   "execution_count": 50,
   "metadata": {},
   "outputs": [],
   "source": [
    "def uncertainty(x, y, ux=0.5, uy=0.5):\n",
    "    denominator = (x**2 + y**2)**3\n",
    "    numerator = (ux * x * y)**2 + (uy * x)**2\n",
    "    return np.sqrt(numerator / denominator)"
   ]
  },
  {
   "cell_type": "markdown",
   "metadata": {},
   "source": [
    "We now define a series of values for this uncertainty, evaluatig the above function element-wise on the ``x`` and ``y`` series."
   ]
  },
  {
   "cell_type": "code",
   "execution_count": 57,
   "metadata": {},
   "outputs": [
    {
     "data": {
      "text/plain": [
       "Mercury line\n",
       "Y2    0.000875\n",
       "Y1    0.000877\n",
       "G     0.000906\n",
       "BV    0.000908\n",
       "V     0.000884\n",
       "dtype: float64"
      ]
     },
     "execution_count": 57,
     "metadata": {},
     "output_type": "execute_result"
    }
   ],
   "source": [
    "u_sin_theta = uncertainty(x, y)\n",
    "u_sin_theta"
   ]
  },
  {
   "cell_type": "markdown",
   "metadata": {},
   "source": [
    "Add some choice columns to the analysis table."
   ]
  },
  {
   "cell_type": "code",
   "execution_count": 58,
   "metadata": {},
   "outputs": [],
   "source": [
    "subdf['sin(theta)'] = sin_theta\n",
    "subdf['u(sin(theta))'] = u_sin_theta"
   ]
  },
  {
   "cell_type": "markdown",
   "metadata": {},
   "source": [
    "## _Analysis paradigm 1:_ Measured wavelengths from the known grating period\n",
    "\n",
    "Suppose we were provided the grating with a known period ($G = 1200$ lines per mm). Then our measurement of diffraction angles for a given order is essentially a measurement of the wavelengths of each spectral component of the lamp.\n",
    "\n",
    "The imputed wavelength is given by (for $m=1$):\n",
    "$$\\lambda = d \\sin \\theta .$$\n",
    "\n",
    "We've 'measured' $\\sin\\theta$ with an uncertainty of $u(\\sin\\theta)$, which makes calculating the uncertainty in the measured wavelength simple, as $\\lambda$ will have the same fractional error as $\\sin\\theta$, i.e. \n",
    "\n",
    "$$\\begin{align}\\frac{u(\\lambda)}{\\lambda} &= \\frac{u(\\sin\\theta)}{\\sin\\theta} \\\\ \\Rightarrow u(\\lambda) &= \\lambda \\frac{u(\\sin\\theta)}{\\sin\\theta} \\, . \\end{align}$$"
   ]
  },
  {
   "cell_type": "code",
   "execution_count": 75,
   "metadata": {},
   "outputs": [],
   "source": [
    "G_actual = 1200   # lines per mm\n",
    "mm = 1e-3         # millimeters SI constant\n",
    "nm = 1e-9         # nanometers SI constant\n",
    "\n",
    "# Grating period in meters\n",
    "d_actual = mm/G_actual\n",
    "\n",
    "# Measured wavelengths from known grating period\n",
    "lambda_measured = d_actual * sin_theta\n",
    "subdf['lambda measured (nm)'] = lambda_measured / nm\n",
    "\n",
    "# The actual wavelengths of those measured\n",
    "lambda_actual = subdf.iloc[:,0] * 1e-10\n",
    "subdf['lambda actual (nm)'] = lambda_actual / nm\n",
    "\n",
    "# The uncertainty in the wavelengths measured\n",
    "u_lambda_measured = lambda_measured * u_sin_theta / sin_theta\n",
    "subdf['u(lambda) measured (nm)'] = u_lambda_measured / nm"
   ]
  },
  {
   "cell_type": "markdown",
   "metadata": {},
   "source": [
    "Find the fractional error in each wavelength measurement, and print a summary of the measured wavelengths."
   ]
  },
  {
   "cell_type": "code",
   "execution_count": 76,
   "metadata": {},
   "outputs": [
    {
     "data": {
      "text/html": [
       "<div>\n",
       "<style scoped>\n",
       "    .dataframe tbody tr th:only-of-type {\n",
       "        vertical-align: middle;\n",
       "    }\n",
       "\n",
       "    .dataframe tbody tr th {\n",
       "        vertical-align: top;\n",
       "    }\n",
       "\n",
       "    .dataframe thead th {\n",
       "        text-align: right;\n",
       "    }\n",
       "</style>\n",
       "<table border=\"1\" class=\"dataframe\">\n",
       "  <thead>\n",
       "    <tr style=\"text-align: right;\">\n",
       "      <th></th>\n",
       "      <th>lambda actual (nm)</th>\n",
       "      <th>lambda measured (nm)</th>\n",
       "      <th>u(lambda) measured (nm)</th>\n",
       "      <th>% error</th>\n",
       "    </tr>\n",
       "    <tr>\n",
       "      <th>Mercury line</th>\n",
       "      <th></th>\n",
       "      <th></th>\n",
       "      <th></th>\n",
       "      <th></th>\n",
       "    </tr>\n",
       "  </thead>\n",
       "  <tbody>\n",
       "    <tr>\n",
       "      <th>Y2</th>\n",
       "      <td>579.1</td>\n",
       "      <td>570.339491</td>\n",
       "      <td>0.728818</td>\n",
       "      <td>-1.512780</td>\n",
       "    </tr>\n",
       "    <tr>\n",
       "      <th>Y1</th>\n",
       "      <td>577.0</td>\n",
       "      <td>568.389731</td>\n",
       "      <td>0.730695</td>\n",
       "      <td>-1.492248</td>\n",
       "    </tr>\n",
       "    <tr>\n",
       "      <th>G</th>\n",
       "      <td>546.1</td>\n",
       "      <td>537.392449</td>\n",
       "      <td>0.754608</td>\n",
       "      <td>-1.594497</td>\n",
       "    </tr>\n",
       "    <tr>\n",
       "      <th>BV</th>\n",
       "      <td>435.8</td>\n",
       "      <td>426.931975</td>\n",
       "      <td>0.756920</td>\n",
       "      <td>-2.034884</td>\n",
       "    </tr>\n",
       "    <tr>\n",
       "      <th>V</th>\n",
       "      <td>404.7</td>\n",
       "      <td>395.311016</td>\n",
       "      <td>0.736437</td>\n",
       "      <td>-2.319986</td>\n",
       "    </tr>\n",
       "  </tbody>\n",
       "</table>\n",
       "</div>"
      ],
      "text/plain": [
       "              lambda actual (nm)  lambda measured (nm)  \\\n",
       "Mercury line                                             \n",
       "Y2                         579.1            570.339491   \n",
       "Y1                         577.0            568.389731   \n",
       "G                          546.1            537.392449   \n",
       "BV                         435.8            426.931975   \n",
       "V                          404.7            395.311016   \n",
       "\n",
       "              u(lambda) measured (nm)   % error  \n",
       "Mercury line                                     \n",
       "Y2                           0.728818 -1.512780  \n",
       "Y1                           0.730695 -1.492248  \n",
       "G                            0.754608 -1.594497  \n",
       "BV                           0.756920 -2.034884  \n",
       "V                            0.736437 -2.319986  "
      ]
     },
     "execution_count": 76,
     "metadata": {},
     "output_type": "execute_result"
    }
   ],
   "source": [
    "fractional_error = (lambda_measured - lambda_actual) / lambda_actual\n",
    "subdf['% error'] = 100 * fractional_error\n",
    "\n",
    "subdf[['lambda actual (nm)', 'lambda measured (nm)', 'u(lambda) measured (nm)', '% error']]"
   ]
  },
  {
   "cell_type": "markdown",
   "metadata": {},
   "source": [
    "## _Analysis paradigm 2:_ Finding the grating period from known wavelengths\n",
    "    \n",
    "Suppose instead that we did not know the grating period, but could identify a known wavelength for each observed line. Since $\\sin\\theta$ is proportional to $\\lambda$, we can do linear regression to data in the form of $(\\lambda_{\\text{actual}}, \\sin\\theta)$ pairs, and find the grating period $G=1/d$ from the slope."
   ]
  },
  {
   "cell_type": "markdown",
   "metadata": {},
   "source": [
    "### Plotting with error bars\n",
    "\n",
    "Let's first plot $\\sin\\theta$ vs $\\lambda_{\\text{actual}}$ in nanometres."
   ]
  },
  {
   "cell_type": "code",
   "execution_count": 83,
   "metadata": {},
   "outputs": [
    {
     "data": {
      "image/png": "[encoded data removed]",
      "text/plain": [
       "<Figure size 660x440 with 1 Axes>"
      ]
     },
     "metadata": {
      "needs_background": "light"
     },
     "output_type": "display_data"
    }
   ],
   "source": [
    "lambda_nm = lambda_actual / nm\n",
    "\n",
    "plt.errorbar(lambda_nm, sin_theta, u_sin_theta, \n",
    "            marker='o', ls='none', ms=4)\n",
    "plt.xlabel(r'$\\lambda$ (nm)')\n",
    "plt.ylabel(r'$\\sin(\\theta)$')\n",
    "plt.grid()"
   ]
  },
  {
   "cell_type": "markdown",
   "metadata": {},
   "source": [
    "The error bars are barely visible, if at all."
   ]
  },
  {
   "cell_type": "markdown",
   "metadata": {},
   "source": [
    "### Weighted linear regression using ``lmfit``\n",
    "\n",
    "We use the excellent ``lmfit`` package to do weighted linear regression. All we need is the ``LienarModel`` class, which we'll create an _instance_ of, called ``model``."
   ]
  },
  {
   "cell_type": "code",
   "execution_count": 85,
   "metadata": {},
   "outputs": [],
   "source": [
    "from lmfit.models import LinearModel\n",
    "model = LinearModel()"
   ]
  },
  {
   "cell_type": "markdown",
   "metadata": {},
   "source": [
    "To perform the regression, we just need to call the ``fit`` method of ``model``, passing it the measured values, the values of the independent variable, and the weights for the regression. The latter will be the reciprocal of the uncertainties, so that those points with a larger uncertainty should contribute less to the fit."
   ]
  },
  {
   "cell_type": "code",
   "execution_count": 87,
   "metadata": {},
   "outputs": [
    {
     "name": "stdout",
     "output_type": "stream",
     "text": [
      "[[Model]]\n",
      "    Model(linear)\n",
      "[[Fit Statistics]]\n",
      "    # fitting method   = leastsq\n",
      "    # function evals   = 10\n",
      "    # data points      = 5\n",
      "    # variables        = 2\n",
      "    chi-square         = 0.19209914\n",
      "    reduced chi-square = 0.06403305\n",
      "    Akaike info crit   = -12.2959081\n",
      "    Bayesian info crit = -13.0770323\n",
      "[[Variables]]\n",
      "    intercept: -0.01257873 +/- 7.0096e-04 (5.57%) (init = 0)\n",
      "    slope:      0.00120380 +/- 1.3616e-06 (0.11%) (init = 1)\n",
      "[[Correlations]] (unreported correlations are < 0.100)\n",
      "    C(intercept, slope) = -0.990\n",
      "\n"
     ]
    }
   ],
   "source": [
    "fit = model.fit(sin_theta, x=lambda_nm, weights=1/u_sin_theta)\n",
    "print(fit.fit_report())"
   ]
  },
  {
   "cell_type": "markdown",
   "metadata": {},
   "source": [
    "We can extract the slope using the following syntax:"
   ]
  },
  {
   "cell_type": "code",
   "execution_count": 89,
   "metadata": {},
   "outputs": [
    {
     "data": {
      "text/plain": [
       "<Parameter 'slope', value=0.0012038037459667647 +/- 1.36e-06, bounds=[-inf:inf]>"
      ]
     },
     "execution_count": 89,
     "metadata": {},
     "output_type": "execute_result"
    }
   ],
   "source": [
    "slope = fit.params['slope']\n",
    "slope"
   ]
  },
  {
   "cell_type": "markdown",
   "metadata": {},
   "source": [
    "This is $G$ in funny units, since we specified the wavelength in nanometers when fitting. The actual value of $G$ in units of lines per mm is:"
   ]
  },
  {
   "cell_type": "code",
   "execution_count": 91,
   "metadata": {},
   "outputs": [
    {
     "data": {
      "text/plain": [
       "1203.8037459667648"
      ]
     },
     "execution_count": 91,
     "metadata": {},
     "output_type": "execute_result"
    }
   ],
   "source": [
    "mm / nm * slope.value"
   ]
  },
  {
   "cell_type": "markdown",
   "metadata": {},
   "source": [
    "And the standard error of the slope in these units is:"
   ]
  },
  {
   "cell_type": "code",
   "execution_count": 92,
   "metadata": {},
   "outputs": [
    {
     "data": {
      "text/plain": [
       "1.3615711178686922"
      ]
     },
     "execution_count": 92,
     "metadata": {},
     "output_type": "execute_result"
    }
   ],
   "source": [
    "mm / nm * slope.stderr"
   ]
  },
  {
   "cell_type": "markdown",
   "metadata": {},
   "source": [
    "We can also get the percentage error from the fractional error:"
   ]
  },
  {
   "cell_type": "code",
   "execution_count": 94,
   "metadata": {},
   "outputs": [
    {
     "name": "stdout",
     "output_type": "stream",
     "text": [
      "0.11310573857495566\n"
     ]
    }
   ],
   "source": [
    "frac_error = slope.stderr / slope.value\n",
    "print(100 * frac_error)"
   ]
  },
  {
   "cell_type": "markdown",
   "metadata": {},
   "source": [
    "There is a very helpful package called uncertainties for handling and printing numbers with uncertainties. Here's some usage examples:"
   ]
  },
  {
   "cell_type": "code",
   "execution_count": 96,
   "metadata": {},
   "outputs": [
    {
     "name": "stdout",
     "output_type": "stream",
     "text": [
      "G (measured) =  1203.8+/-1.4\n",
      "G (measured) =  1204(1)\n",
      "Error = 0.1% (one part in 884)\n"
     ]
    }
   ],
   "source": [
    "from uncertainties import ufloat\n",
    "\n",
    "# Report the imputed grating frequency in lines per mm\n",
    "G_measured = ufloat(slope.value, slope.stderr) / nm\n",
    "print('G (measured) = ', '{0:.2u}'.format(mm * G_measured))\n",
    "print('G (measured) = ', '{0:.1uS}'.format(mm * G_measured))\n",
    "\n",
    "# Get the percentage error\n",
    "print('Error = {:.1f}% (one part in {:d})'.format(100*frac_error, int(1/frac_error)))"
   ]
  },
  {
   "cell_type": "markdown",
   "metadata": {},
   "source": [
    "### Visualising the fit"
   ]
  },
  {
   "cell_type": "markdown",
   "metadata": {},
   "source": [
    "A trendline is attained by evaluating the model at the fitted parameters, and connecting the points with a line. We can evaluate the model function in multiple ways.\n",
    "\n",
    "#### Method 1: Defining a model function explicitly"
   ]
  },
  {
   "cell_type": "code",
   "execution_count": 98,
   "metadata": {},
   "outputs": [
    {
     "data": {
      "text/plain": [
       "Mercury line\n",
       "Y2    0.684544\n",
       "Y1    0.682016\n",
       "G     0.644818\n",
       "BV    0.512039\n",
       "V     0.474601\n",
       "Name: Wavelength (Å), dtype: float64"
      ]
     },
     "execution_count": 98,
     "metadata": {},
     "output_type": "execute_result"
    }
   ],
   "source": [
    "def linear(x, slope, intercept):\n",
    "    return slope * x + intercept\n",
    "\n",
    "linear(lambda_nm, **fit.params)"
   ]
  },
  {
   "cell_type": "markdown",
   "metadata": {},
   "source": [
    "#### Method 2: ``lmfit.Model``'s ``eval`` method"
   ]
  },
  {
   "cell_type": "code",
   "execution_count": 99,
   "metadata": {},
   "outputs": [
    {
     "data": {
      "text/plain": [
       "Mercury line\n",
       "Y2    0.684544\n",
       "Y1    0.682016\n",
       "G     0.644818\n",
       "BV    0.512039\n",
       "V     0.474601\n",
       "Name: Wavelength (Å), dtype: float64"
      ]
     },
     "execution_count": 99,
     "metadata": {},
     "output_type": "execute_result"
    }
   ],
   "source": [
    "model.eval(fit.params, x=lambda_nm)"
   ]
  },
  {
   "cell_type": "markdown",
   "metadata": {},
   "source": [
    "#### Method 3: ``lmfit.Model.ModelResult``'s ``eval`` method"
   ]
  },
  {
   "cell_type": "code",
   "execution_count": 100,
   "metadata": {},
   "outputs": [
    {
     "data": {
      "text/plain": [
       "Mercury line\n",
       "Y2    0.684544\n",
       "Y1    0.682016\n",
       "G     0.644818\n",
       "BV    0.512039\n",
       "V     0.474601\n",
       "Name: Wavelength (Å), dtype: float64"
      ]
     },
     "execution_count": 100,
     "metadata": {},
     "output_type": "execute_result"
    }
   ],
   "source": [
    "sin_theta_fit = fit.eval()\n",
    "sin_theta_fit"
   ]
  },
  {
   "cell_type": "markdown",
   "metadata": {},
   "source": [
    "#### Plotting the fit using the ``lmfit.Model.ModelResult``'s convenient ``plot`` method\n",
    "\n",
    "This is way easier than generating the plot manually (below), and can be saved using the ``plt.savefig`` method."
   ]
  },
  {
   "cell_type": "code",
   "execution_count": 102,
   "metadata": {},
   "outputs": [
    {
     "data": {
      "image/png": "[encoded data removed]",
      "text/plain": [
       "<Figure size 660x660 with 2 Axes>"
      ]
     },
     "metadata": {
      "needs_background": "light"
     },
     "output_type": "display_data"
    }
   ],
   "source": [
    "fit.plot(xlabel=r'$\\lambda$ (nm)', ylabel=r'$\\sin \\theta$')\n",
    "plt.grid(True)\n",
    "plt.savefig('diffraction_lab.png')"
   ]
  },
  {
   "cell_type": "markdown",
   "metadata": {},
   "source": [
    "#### Plotting the fit with the residuals manually"
   ]
  },
  {
   "cell_type": "code",
   "execution_count": 103,
   "metadata": {},
   "outputs": [
    {
     "data": {
      "text/plain": [
       "<matplotlib.legend.Legend at 0x271a78002b0>"
      ]
     },
     "execution_count": 103,
     "metadata": {},
     "output_type": "execute_result"
    },
    {
     "data": {
      "image/png": "[encoded data removed]",
      "text/plain": [
       "<Figure size 660x660 with 2 Axes>"
      ]
     },
     "metadata": {
      "needs_background": "light"
     },
     "output_type": "display_data"
    }
   ],
   "source": [
    "residuals = sin_theta - sin_theta_fit\n",
    "fig = plt.figure(figsize=[6, 6])\n",
    "gs = mpl.gridspec.GridSpec(2, 1, height_ratios=[1, 3]) \n",
    "ax0 = plt.subplot(gs[0])\n",
    "ax0.errorbar(lambda_nm, residuals, u_sin_theta,\n",
    "             marker='o', ms=4, ls='none')\n",
    "ax0.axhline(y=0, c='k', alpha=0.5, ls='--')\n",
    "ax0.set_ylabel('residuals')\n",
    "ax0.xaxis.set_ticklabels([])\n",
    "ax1 = plt.subplot(gs[1])\n",
    "ax1.errorbar(lambda_nm, sin_theta, u_sin_theta, \n",
    "             marker='o', ls='none', label='data')\n",
    "ax1.plot(lambda_nm, sin_theta_fit, '-', label='fit')\n",
    "ax1.set_xlabel(r'$\\lambda$ (nm)')\n",
    "ax1.set_ylabel(r'$\\sin \\theta$')\n",
    "ax1.grid(True)\n",
    "ax1.legend()"
   ]
  }
 ],
 "metadata": {
  "kernelspec": {
   "display_name": "Python 3",
   "language": "python",
   "name": "python3"
  },
  "language_info": {
   "codemirror_mode": {
    "name": "ipython",
    "version": 3
   },
   "file_extension": ".py",
   "mimetype": "text/x-python",
   "name": "python",
   "nbconvert_exporter": "python",
   "pygments_lexer": "ipython3",
   "version": "3.7.1"
  }
 },
 "nbformat": 4,
 "nbformat_minor": 2
}
